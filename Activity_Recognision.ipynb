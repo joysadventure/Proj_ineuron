{
 "cells": [
  {
   "cell_type": "code",
   "execution_count": 2,
   "metadata": {},
   "outputs": [],
   "source": [
    "import os\n",
    "import os as path\n",
    "import pandas as pd\n",
    "import numpy as np\n",
    "import pickle\n",
    "import pandas_profiling as ProfileReporting\n",
    "from sklearn.model_selection import train_test_split\n"
   ]
  },
  {
   "cell_type": "code",
   "execution_count": 5,
   "metadata": {},
   "outputs": [
    {
     "ename": "TypeError",
     "evalue": "insert() missing 2 required positional arguments: 'column' and 'value'",
     "output_type": "error",
     "traceback": [
      "\u001b[1;31m---------------------------------------------------------------------------\u001b[0m",
      "\u001b[1;31mTypeError\u001b[0m                                 Traceback (most recent call last)",
      "\u001b[1;32m<ipython-input-5-aff3e818fde2>\u001b[0m in \u001b[0;36m<module>\u001b[1;34m\u001b[0m\n\u001b[0;32m     29\u001b[0m             \u001b[1;31m## Now adding the column Gender\u001b[0m\u001b[1;33m\u001b[0m\u001b[1;33m\u001b[0m\u001b[1;33m\u001b[0m\u001b[0m\n\u001b[0;32m     30\u001b[0m \u001b[1;33m\u001b[0m\u001b[0m\n\u001b[1;32m---> 31\u001b[1;33m             \u001b[0mdf\u001b[0m\u001b[1;33m.\u001b[0m\u001b[0minsert\u001b[0m\u001b[1;33m(\u001b[0m\u001b[0mgender\u001b[0m\u001b[1;33m)\u001b[0m\u001b[1;33m\u001b[0m\u001b[1;33m\u001b[0m\u001b[0m\n\u001b[0m\u001b[0;32m     32\u001b[0m \u001b[1;33m\u001b[0m\u001b[0m\n\u001b[0;32m     33\u001b[0m             \u001b[0mdf\u001b[0m\u001b[1;33m.\u001b[0m\u001b[0mappend\u001b[0m\u001b[1;33m.\u001b[0m\u001b[0ms1_dataset\u001b[0m\u001b[1;33m(\u001b[0m\u001b[0mdf\u001b[0m\u001b[1;33m)\u001b[0m\u001b[1;33m\u001b[0m\u001b[1;33m\u001b[0m\u001b[0m\n",
      "\u001b[1;31mTypeError\u001b[0m: insert() missing 2 required positional arguments: 'column' and 'value'"
     ]
    }
   ],
   "source": [
    "## Creating a path \n",
    "\n",
    "path = \"F:/Assignments/Datasets_Healthy_Older_People\"\n",
    "\n",
    "## Creating the new dataframe\n",
    "\n",
    "s1_dataset = pd.DataFrame()\n",
    "\n",
    "## Run a loop for the directory names :\n",
    "\n",
    "for dataset in [\"S1_Dataset\", \"S2_Dataset\"]:\n",
    "    dataset_path = os.path.join(path, dataset)   ## Now appending the S1_dataset to the base path\n",
    "    \n",
    "   ## Now opening all the files within the dataset \n",
    "\n",
    "    for file in os.listdir(dataset_path):\n",
    "        if file != \"README.txt\":  ## Include all the files just excluding the README.txt\n",
    "            file_path = os.path.join(dataset_path, file)\n",
    "            \n",
    "            if file[:-1] == \"F\":   ## Now reverse the folder name to check if the last alphabet if F or M. \n",
    "                gender = 1         ## If its Male then consider it as 0 or Female is 1.\n",
    "            else:\n",
    "                gender = 0\n",
    "                \n",
    "            ## Now opening the files in the form of csv from the Dataframe\n",
    "            \n",
    "            df = pd.read_csv(file_path, header=None)\n",
    "                \n",
    "            ## Now adding the column Gender \n",
    "            \n",
    "            df.insert(gender)\n",
    "            \n",
    "            df.append.s1_dataset(df)  \n",
    "                \n",
    "                \n",
    "    "
   ]
  },
  {
   "cell_type": "code",
   "execution_count": null,
   "metadata": {},
   "outputs": [],
   "source": []
  }
 ],
 "metadata": {
  "kernelspec": {
   "display_name": "Python 3",
   "language": "python",
   "name": "python3"
  },
  "language_info": {
   "codemirror_mode": {
    "name": "ipython",
    "version": 3
   },
   "file_extension": ".py",
   "mimetype": "text/x-python",
   "name": "python",
   "nbconvert_exporter": "python",
   "pygments_lexer": "ipython3",
   "version": "3.7.9"
  }
 },
 "nbformat": 4,
 "nbformat_minor": 4
}
