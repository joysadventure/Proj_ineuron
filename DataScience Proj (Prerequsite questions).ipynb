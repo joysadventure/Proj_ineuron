{
 "cells": [
  {
   "cell_type": "code",
   "execution_count": null,
   "id": "16ba86c0",
   "metadata": {},
   "outputs": [],
   "source": []
  },
  {
   "cell_type": "markdown",
   "id": "89c4b848",
   "metadata": {},
   "source": [
    "### what are the roles in Data scient projects and hierarchies?\n",
    "what is the process followed in data science projects?   ----> Firstly need to consider of the companies budgetary could meet the requirement to run a Datascience project.\n",
    "\n",
    "\n",
    "Who will frame to problem statements?  ---- > It will be not about who will be framing the problem statment but more importantly ,what would be the problems arising on a regular basiswhich are quite critical to the production and which needs to be improvised by building up the models.\n",
    "\n",
    "Will POC be done?, who will do the POC? \n",
    "\n",
    "How the team is decided?\n",
    "\n",
    "what will be the team size?\n",
    "\n",
    "who collects the data?\n",
    "\n",
    "How do data scient projects work in Kanban, or in agile?\n",
    "\n",
    "If it is Agile? how will be stories written?\n",
    "\n",
    "how the base model is created?\n",
    "\n",
    "How does whole team work on a single problem?\n",
    "\n",
    "when you have to train your model with a different algorithm? how the training is done? how the task is distributed?\n",
    "\n",
    "what are the steps one should follow before getting started with ML life cycle?\n",
    "\n",
    "what happens after we train the model?\n",
    "\n",
    "who will productionize the model?\n",
    "\n",
    "who else will work with the Data Science team?\n",
    "\n",
    "\n",
    "how the model testing is done to ensure the correctness of the model?\n",
    "\n",
    "How the restraining is done?\n",
    "\n",
    "How model monitoring and maintaining is done?\n",
    "\n",
    "what is the lifetime of a model?"
   ]
  },
  {
   "cell_type": "markdown",
   "id": "6c9db0f0",
   "metadata": {},
   "source": [
    "## Some Important pointers "
   ]
  },
  {
   "cell_type": "markdown",
   "id": "551cc6cf",
   "metadata": {},
   "source": [
    "###\n",
    "Before even deciding on getting the answers to the above questions. The important questions that needs be raised are :\n",
    "\n",
    "\n",
    "Need to ask important questions on how to know the sources from where the data needs to be collected. Will it be a single source or multiple.?\n",
    "\n",
    "How to consolidate the data coming from multiple distinct resources?\n",
    "\n",
    "How do we segreggate them and specially try to understand the colinearity between all the distinct data accumulated.? As relating the data from various sources will be of utmost importance\n",
    "Before even determining the team , we need to get a brain storming of what would be the best alternative to go if the company is a small scale industry and they want to have a simple \n",
    "solution to analyse their data. It would be inappropriate to have build up complex models for user data which is quite simple. \n",
    "\n",
    "The most important question would be if the company will be able to afford for getting the required resources for running the computation?\n",
    "\n",
    "If the company is a renowned one and are ready to invest , we need to again go back to the second point. How to collate the resources gathered from various sources. \n",
    "\n",
    "For a company with a new domain altogether , to which we are alien to, we would need a hypothesis first and foremost. Some to demo on the actual core competency of the company and then generalize the things on a live enviornment to understand what is the process the company follows to deliver what they deliver in terms of products. \n",
    "In short we should know how the business functions at its core. \n",
    "\n",
    "\n",
    "Need to understand different aspects of the business how it works and how the actual functionalities from various angles and how they all come to meet at a single point todeliver the product. We will get the variables from different segments and we need to then try corelating it and seeing if it fits the model. \n",
    "\n",
    "We need to understand the potential setback in terms of failures for certain products which didnt work out in the market since past 10 years or at minimum 5 years average and \n",
    "also the successes that the company achieved in delivering some products which have gained them profit. Was it technical or was it quality based. We need to measure the colinearity\n",
    "between all the ifs and buts of it. Also question why it happened the way it happened.\n",
    "\n",
    "How to understand the statistical growth or decline of the company since past few years or atleast a decade. \n",
    "\n",
    "Your problem statement could come from any where and we should be ready for it. Need to understand the key problems and then break down into a Dataproblem.\n",
    "\n",
    "Note the present architecture of the company and understand if we need to redesign it if necessary. Is there a reengineering required. \n",
    "\n",
    "Some thing that is quite serious is that we need to take a benchmarking score. This has to be known or provided by the people who have worked and studied on companies\n",
    " threshold since years. We need to know the threshold from them and setup a benchmarking score accroding to that. Else we wont be able to understand where and how the data \n",
    "can be accurate. \n",
    "\n",
    "We should really need to understand the scope of the work. May be sit with the project Manager in charge and identify the scope of what is allowed and what is not allowed for us.\n",
    "We will to select the variables accordingly. That is how we can skim down all the irrelevant data which are not required by doing the Datacleaning. \n",
    "\n",
    "Also need to involve and keep the stakeholders of the project about the updates on regular basis or else the project may take another different turn and we get stuck up in blind loop. The stakeholders will be able to direct us ,in case the project is taking a wrong direction.\n",
    "\n",
    "It is always important to ask ourselves a question which is of utmost importance. What do i actually want to achieve from this project. \n",
    "Is it just obtaining high accuracy or is it something which can be varible at times. For which we need to understand the core of the business as well. \n",
    "\n",
    "Sticking to the basics. It is mostly a simple alogrithm like the linear regression can give us precise accuracy without using any computation power \n"
   ]
  },
  {
   "cell_type": "code",
   "execution_count": null,
   "id": "e23c9227",
   "metadata": {},
   "outputs": [],
   "source": []
  }
 ],
 "metadata": {
  "kernelspec": {
   "display_name": "Python 3",
   "language": "python",
   "name": "python3"
  },
  "language_info": {
   "codemirror_mode": {
    "name": "ipython",
    "version": 3
   },
   "file_extension": ".py",
   "mimetype": "text/x-python",
   "name": "python",
   "nbconvert_exporter": "python",
   "pygments_lexer": "ipython3",
   "version": "3.8.5"
  }
 },
 "nbformat": 4,
 "nbformat_minor": 5
}
